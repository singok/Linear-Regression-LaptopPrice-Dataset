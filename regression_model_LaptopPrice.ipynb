{
 "cells": [
  {
   "cell_type": "markdown",
   "id": "2152e145",
   "metadata": {},
   "source": [
    "# Linear Regression with Python\n",
    "Linear Regression is one of the most widely used supervised machine learning algorithm. This algorithm is used to find the linear relationship between two variables. In this project, I have used <b><i>Laptop Price</i></b> dataset. The aim of this project is to predict the <b><i>Price_euros</i></b> based on the applied explanatory variables."
   ]
  },
  {
   "cell_type": "markdown",
   "id": "2b2d96d2",
   "metadata": {},
   "source": [
    "## 1. Introduction to Linear Regression\n",
    "Machine learning algorithms are mostly categorized into two groups, supervised and unsupervised learning. These can be differentiated with the help of dependent or target variable. In supervised learning, a machine predict the output based on the given well labelled trained data.<br><br>\n",
    "The relationship between two variables can be found using linear regression. We apply linear equation to the observed data for this. Among the two varibles which is used in this algorithm, one is called an independent or explanatory variable whereas the other is said to be dependent or target variable. "
   ]
  },
  {
   "cell_type": "markdown",
   "id": "bd1c37fe",
   "metadata": {},
   "source": [
    "## 2. Terminologies"
   ]
  },
  {
   "cell_type": "markdown",
   "id": "42969531",
   "metadata": {},
   "source": [
    "### Gradient descent\n",
    "It is one of the most commonly-used optimization technique which is applied in machine learning models and neural network. "
   ]
  },
  {
   "cell_type": "markdown",
   "id": "f4d24031",
   "metadata": {},
   "source": [
    "### Cost function\n",
    "The cost function falls under the gradient descent. Here, this function works as barometer which measures the accuracy with each iteration of paramter updates. The model tries to adjust its parameters until the cost function comes colser to zero."
   ]
  },
  {
   "cell_type": "markdown",
   "id": "79d0ea29",
   "metadata": {},
   "source": [
    "### Root Mean Square Error\n",
    "It tells how the regression model fits a dataset. RMSE is a metric which gives the average distance between actual values and predicted values in the dataset. A model is considered better for fitting in the dataset if the RMSE value is lower."
   ]
  },
  {
   "cell_type": "markdown",
   "id": "bbfbfa45",
   "metadata": {},
   "source": [
    "### Coefficient of Determination (R Squared)\n",
    "It is also used to measure the accuracy of model. This is used to predict the future outcomes of model. Generally, it ranges from 0 to 1. Moreover, it gives information about the level of variation in the dataset."
   ]
  },
  {
   "cell_type": "markdown",
   "id": "3ee4feaf",
   "metadata": {},
   "source": [
    "## 3. The problem statement\n",
    "In this project, I am going to predict the output based on the given input. I have used <b><i>Laptop Price</i></b> dataset in this project. Mainly, the aim of this project is to predict <b><i>Price_euros</i></b> based on the given input data such as <b><i>(Ram, ScreenResolution, Memory, Weight, Cpu etc)</i></b>. "
   ]
  },
  {
   "cell_type": "markdown",
   "id": "ead5d899",
   "metadata": {},
   "source": [
    "## 4. Dataset description\n",
    "In this project, <b><i>Laptop Price</i></b> dataset has been used which was downloaded from kaggle.com. You can find the dataset at the following url :<br><br>https://www.kaggle.com/muhammetvarl/laptop-price<br><br>\n",
    "This dataset contains details of laptops of certain companies. In this dataset, there are 13 columns in total. The <b><i>Company</i></b> variable contains name of laptop brands, whereas <b><i>Product</i></b> consists of laptop models. Similarly, <b><i>Inches</i></b> tells about the screen size of laptop, and <b><i>Cpu</i></b> gives the information about processor types and its speed. Likewise, storage details can be found on <b><i>Ram</i></b> and <b><i>Memory</i></b> columns. Finally, <b><i>Price_euros</i></b> gives information about the selling price of laptops."
   ]
  },
  {
   "cell_type": "markdown",
   "id": "0191321d",
   "metadata": {},
   "source": [
    "## 5. Import libraries"
   ]
  },
  {
   "cell_type": "code",
   "execution_count": 1,
   "id": "63504166",
   "metadata": {},
   "outputs": [],
   "source": [
    "import pandas as pd\n",
    "import numpy as np\n",
    "import seaborn as sns\n",
    "import matplotlib.pyplot as plt\n",
    "\n",
    "from sklearn.linear_model import LinearRegression\n",
    "from sklearn.metrics import mean_squared_error, r2_score\n",
    "from sklearn.model_selection import train_test_split"
   ]
  },
  {
   "cell_type": "markdown",
   "id": "f8bd9885",
   "metadata": {},
   "source": [
    "## 6. Ignore warnings"
   ]
  },
  {
   "cell_type": "code",
   "execution_count": 2,
   "id": "26aadc96",
   "metadata": {},
   "outputs": [],
   "source": [
    "import warnings\n",
    "warnings.filterwarnings('ignore')"
   ]
  },
  {
   "cell_type": "markdown",
   "id": "85078b2a",
   "metadata": {},
   "source": [
    "## 7. Import dataset"
   ]
  },
  {
   "cell_type": "code",
   "execution_count": 3,
   "id": "e24de6f7",
   "metadata": {},
   "outputs": [],
   "source": [
    "data = pd.read_csv('laptop_price.csv', encoding = 'unicode_escape', engine ='python')"
   ]
  },
  {
   "cell_type": "markdown",
   "id": "33cf8635",
   "metadata": {},
   "source": [
    "## 8. Data analysis"
   ]
  },
  {
   "cell_type": "markdown",
   "id": "9013df53",
   "metadata": {},
   "source": [
    "### Shape of dataset"
   ]
  },
  {
   "cell_type": "code",
   "execution_count": 4,
   "id": "001578f2",
   "metadata": {},
   "outputs": [
    {
     "data": {
      "text/plain": [
       "(1303, 13)"
      ]
     },
     "execution_count": 4,
     "metadata": {},
     "output_type": "execute_result"
    }
   ],
   "source": [
    "data.shape"
   ]
  },
  {
   "cell_type": "markdown",
   "id": "7a3dcf1f",
   "metadata": {},
   "source": [
    "Here, we can see that there are 13 attributes and 1303 instances in the dataset. We have to see some more details about the dataset. Hence, we are going to see the first 5 instances of the dataset."
   ]
  },
  {
   "cell_type": "markdown",
   "id": "ee3f15a2",
   "metadata": {},
   "source": [
    "### Preview the dataset"
   ]
  },
  {
   "cell_type": "code",
   "execution_count": 5,
   "id": "8c6f3692",
   "metadata": {},
   "outputs": [
    {
     "data": {
      "text/html": [
       "<div>\n",
       "<style scoped>\n",
       "    .dataframe tbody tr th:only-of-type {\n",
       "        vertical-align: middle;\n",
       "    }\n",
       "\n",
       "    .dataframe tbody tr th {\n",
       "        vertical-align: top;\n",
       "    }\n",
       "\n",
       "    .dataframe thead th {\n",
       "        text-align: right;\n",
       "    }\n",
       "</style>\n",
       "<table border=\"1\" class=\"dataframe\">\n",
       "  <thead>\n",
       "    <tr style=\"text-align: right;\">\n",
       "      <th></th>\n",
       "      <th>laptop_ID</th>\n",
       "      <th>Company</th>\n",
       "      <th>Product</th>\n",
       "      <th>TypeName</th>\n",
       "      <th>Inches</th>\n",
       "      <th>ScreenResolution</th>\n",
       "      <th>Cpu</th>\n",
       "      <th>Ram</th>\n",
       "      <th>Memory</th>\n",
       "      <th>Gpu</th>\n",
       "      <th>OpSys</th>\n",
       "      <th>Weight</th>\n",
       "      <th>Price_euros</th>\n",
       "    </tr>\n",
       "  </thead>\n",
       "  <tbody>\n",
       "    <tr>\n",
       "      <th>0</th>\n",
       "      <td>1</td>\n",
       "      <td>Apple</td>\n",
       "      <td>MacBook Pro</td>\n",
       "      <td>Ultrabook</td>\n",
       "      <td>13.3</td>\n",
       "      <td>IPS Panel Retina Display 2560x1600</td>\n",
       "      <td>Intel Core i5 2.3GHz</td>\n",
       "      <td>8GB</td>\n",
       "      <td>128GB SSD</td>\n",
       "      <td>Intel Iris Plus Graphics 640</td>\n",
       "      <td>macOS</td>\n",
       "      <td>1.37kg</td>\n",
       "      <td>1339.69</td>\n",
       "    </tr>\n",
       "    <tr>\n",
       "      <th>1</th>\n",
       "      <td>2</td>\n",
       "      <td>Apple</td>\n",
       "      <td>Macbook Air</td>\n",
       "      <td>Ultrabook</td>\n",
       "      <td>13.3</td>\n",
       "      <td>1440x900</td>\n",
       "      <td>Intel Core i5 1.8GHz</td>\n",
       "      <td>8GB</td>\n",
       "      <td>128GB Flash Storage</td>\n",
       "      <td>Intel HD Graphics 6000</td>\n",
       "      <td>macOS</td>\n",
       "      <td>1.34kg</td>\n",
       "      <td>898.94</td>\n",
       "    </tr>\n",
       "    <tr>\n",
       "      <th>2</th>\n",
       "      <td>3</td>\n",
       "      <td>HP</td>\n",
       "      <td>250 G6</td>\n",
       "      <td>Notebook</td>\n",
       "      <td>15.6</td>\n",
       "      <td>Full HD 1920x1080</td>\n",
       "      <td>Intel Core i5 7200U 2.5GHz</td>\n",
       "      <td>8GB</td>\n",
       "      <td>256GB SSD</td>\n",
       "      <td>Intel HD Graphics 620</td>\n",
       "      <td>No OS</td>\n",
       "      <td>1.86kg</td>\n",
       "      <td>575.00</td>\n",
       "    </tr>\n",
       "    <tr>\n",
       "      <th>3</th>\n",
       "      <td>4</td>\n",
       "      <td>Apple</td>\n",
       "      <td>MacBook Pro</td>\n",
       "      <td>Ultrabook</td>\n",
       "      <td>15.4</td>\n",
       "      <td>IPS Panel Retina Display 2880x1800</td>\n",
       "      <td>Intel Core i7 2.7GHz</td>\n",
       "      <td>16GB</td>\n",
       "      <td>512GB SSD</td>\n",
       "      <td>AMD Radeon Pro 455</td>\n",
       "      <td>macOS</td>\n",
       "      <td>1.83kg</td>\n",
       "      <td>2537.45</td>\n",
       "    </tr>\n",
       "    <tr>\n",
       "      <th>4</th>\n",
       "      <td>5</td>\n",
       "      <td>Apple</td>\n",
       "      <td>MacBook Pro</td>\n",
       "      <td>Ultrabook</td>\n",
       "      <td>13.3</td>\n",
       "      <td>IPS Panel Retina Display 2560x1600</td>\n",
       "      <td>Intel Core i5 3.1GHz</td>\n",
       "      <td>8GB</td>\n",
       "      <td>256GB SSD</td>\n",
       "      <td>Intel Iris Plus Graphics 650</td>\n",
       "      <td>macOS</td>\n",
       "      <td>1.37kg</td>\n",
       "      <td>1803.60</td>\n",
       "    </tr>\n",
       "  </tbody>\n",
       "</table>\n",
       "</div>"
      ],
      "text/plain": [
       "   laptop_ID Company      Product   TypeName  Inches  \\\n",
       "0          1   Apple  MacBook Pro  Ultrabook    13.3   \n",
       "1          2   Apple  Macbook Air  Ultrabook    13.3   \n",
       "2          3      HP       250 G6   Notebook    15.6   \n",
       "3          4   Apple  MacBook Pro  Ultrabook    15.4   \n",
       "4          5   Apple  MacBook Pro  Ultrabook    13.3   \n",
       "\n",
       "                     ScreenResolution                         Cpu   Ram  \\\n",
       "0  IPS Panel Retina Display 2560x1600        Intel Core i5 2.3GHz   8GB   \n",
       "1                            1440x900        Intel Core i5 1.8GHz   8GB   \n",
       "2                   Full HD 1920x1080  Intel Core i5 7200U 2.5GHz   8GB   \n",
       "3  IPS Panel Retina Display 2880x1800        Intel Core i7 2.7GHz  16GB   \n",
       "4  IPS Panel Retina Display 2560x1600        Intel Core i5 3.1GHz   8GB   \n",
       "\n",
       "                Memory                           Gpu  OpSys  Weight  \\\n",
       "0            128GB SSD  Intel Iris Plus Graphics 640  macOS  1.37kg   \n",
       "1  128GB Flash Storage        Intel HD Graphics 6000  macOS  1.34kg   \n",
       "2            256GB SSD         Intel HD Graphics 620  No OS  1.86kg   \n",
       "3            512GB SSD            AMD Radeon Pro 455  macOS  1.83kg   \n",
       "4            256GB SSD  Intel Iris Plus Graphics 650  macOS  1.37kg   \n",
       "\n",
       "   Price_euros  \n",
       "0      1339.69  \n",
       "1       898.94  \n",
       "2       575.00  \n",
       "3      2537.45  \n",
       "4      1803.60  "
      ]
     },
     "execution_count": 5,
     "metadata": {},
     "output_type": "execute_result"
    }
   ],
   "source": [
    "data.head()"
   ]
  },
  {
   "cell_type": "markdown",
   "id": "ea8937d5",
   "metadata": {},
   "source": [
    "### Summary of dataset"
   ]
  },
  {
   "cell_type": "code",
   "execution_count": 6,
   "id": "88c37913",
   "metadata": {
    "scrolled": false
   },
   "outputs": [
    {
     "name": "stdout",
     "output_type": "stream",
     "text": [
      "<class 'pandas.core.frame.DataFrame'>\n",
      "RangeIndex: 1303 entries, 0 to 1302\n",
      "Data columns (total 13 columns):\n",
      " #   Column            Non-Null Count  Dtype  \n",
      "---  ------            --------------  -----  \n",
      " 0   laptop_ID         1303 non-null   int64  \n",
      " 1   Company           1303 non-null   object \n",
      " 2   Product           1303 non-null   object \n",
      " 3   TypeName          1303 non-null   object \n",
      " 4   Inches            1303 non-null   float64\n",
      " 5   ScreenResolution  1303 non-null   object \n",
      " 6   Cpu               1303 non-null   object \n",
      " 7   Ram               1303 non-null   object \n",
      " 8   Memory            1303 non-null   object \n",
      " 9   Gpu               1303 non-null   object \n",
      " 10  OpSys             1303 non-null   object \n",
      " 11  Weight            1303 non-null   object \n",
      " 12  Price_euros       1303 non-null   float64\n",
      "dtypes: float64(2), int64(1), object(10)\n",
      "memory usage: 132.5+ KB\n"
     ]
    }
   ],
   "source": [
    "data.info()"
   ]
  },
  {
   "cell_type": "markdown",
   "id": "ff26e06c",
   "metadata": {},
   "source": [
    "From the above information, we can see that there are 13 columns in the dataset, each columns having values of different types. All together, there 3 types of data present in our dataset.<br><br>The columns are classified based on the types of data it holds.<br>Float - <b><i>Inches, Price_euros</i></b><br>Int - <b><i>laptop_ID</i></b><br>Object - <b><i>Company, Product, TypeName, ScreenResolution, Cpu, Ram, Memory, Gpu, OpSys, Weight</i></b>"
   ]
  },
  {
   "cell_type": "markdown",
   "id": "7f220de5",
   "metadata": {},
   "source": [
    "### Copy data in another variable"
   ]
  },
  {
   "cell_type": "code",
   "execution_count": 7,
   "id": "07d88b8a",
   "metadata": {
    "scrolled": true
   },
   "outputs": [],
   "source": [
    "dataSet = data"
   ]
  },
  {
   "cell_type": "markdown",
   "id": "a01540e0",
   "metadata": {},
   "source": [
    "From here, we are going to perform all the operation on dataSet."
   ]
  },
  {
   "cell_type": "markdown",
   "id": "30adf7e1",
   "metadata": {},
   "source": [
    "### Check for missing values in dataset"
   ]
  },
  {
   "cell_type": "code",
   "execution_count": 8,
   "id": "8264b173",
   "metadata": {
    "scrolled": true
   },
   "outputs": [
    {
     "data": {
      "text/plain": [
       "laptop_ID           False\n",
       "Company             False\n",
       "Product             False\n",
       "TypeName            False\n",
       "Inches              False\n",
       "ScreenResolution    False\n",
       "Cpu                 False\n",
       "Ram                 False\n",
       "Memory              False\n",
       "Gpu                 False\n",
       "OpSys               False\n",
       "Weight              False\n",
       "Price_euros         False\n",
       "dtype: bool"
      ]
     },
     "execution_count": 8,
     "metadata": {},
     "output_type": "execute_result"
    }
   ],
   "source": [
    "dataSet.isnull().any()"
   ]
  },
  {
   "cell_type": "markdown",
   "id": "0befc128",
   "metadata": {},
   "source": [
    "We can see that each column in the dataset contains some values.In otherword, there are no any missing values in our dataset."
   ]
  },
  {
   "cell_type": "markdown",
   "id": "69ba8218",
   "metadata": {},
   "source": [
    "## 9. Data Visualization"
   ]
  },
  {
   "cell_type": "markdown",
   "id": "01d8737a",
   "metadata": {},
   "source": [
    "### Company with highest sale"
   ]
  },
  {
   "cell_type": "code",
   "execution_count": 9,
   "id": "000ea560",
   "metadata": {
    "scrolled": true
   },
   "outputs": [
    {
     "data": {
      "text/plain": [
       "Text(0.5, 1.0, 'Total Sales made by Company')"
      ]
     },
     "execution_count": 9,
     "metadata": {},
     "output_type": "execute_result"
    },
    {
     "data": {
      "image/png": "[encoded data removed]",
      "text/plain": [
       "<Figure size 1296x288 with 1 Axes>"
      ]
     },
     "metadata": {
      "needs_background": "light"
     },
     "output_type": "display_data"
    }
   ],
   "source": [
    "sales = dataSet.groupby('Company').sum()\n",
    "plt.figure(figsize = (18, 4))\n",
    "sns.barplot(data = sales, x = sales.index, y = 'Price_euros')\n",
    "plt.title('Total Sales made by Company')"
   ]
  },
  {
   "cell_type": "markdown",
   "id": "8e46db8b",
   "metadata": {},
   "source": [
    "In the above figure, we find that the highest sales has been made by <b>Dell</b> company keeping it in the first place followed by <b>Lenove</b> and <b>HP</b> on second and third position, respectively. However, companies like <b>Chuwi</b>, <b>Fujitsu</b>, <b>Google</b>, <b>Huawei</b>, <b>LG Company</b>, <b>Mediacom</b>, <b>Vero</b> and <b>Xiaomi</b> have made very few sales."
   ]
  },
  {
   "cell_type": "markdown",
   "id": "1d9953b6",
   "metadata": {},
   "source": [
    "### Company with largest amount of Laptops"
   ]
  },
  {
   "cell_type": "code",
   "execution_count": 10,
   "id": "ad180583",
   "metadata": {
    "scrolled": false
   },
   "outputs": [
    {
     "data": {
      "text/plain": [
       "Text(0, 0.5, 'Laptops Count')"
      ]
     },
     "execution_count": 10,
     "metadata": {},
     "output_type": "execute_result"
    },
    {
     "data": {
      "image/png": "[encoded data removed]",
      "text/plain": [
       "<Figure size 1296x288 with 1 Axes>"
      ]
     },
     "metadata": {
      "needs_background": "light"
     },
     "output_type": "display_data"
    }
   ],
   "source": [
    "plt.figure(figsize = (18, 4))\n",
    "sns.histplot(x =\"Company\", data=dataSet, color='green')\n",
    "plt.title('Total Number of Laptops per Company')\n",
    "plt.xlabel('Laptop Brands')\n",
    "plt.ylabel('Laptops Count')"
   ]
  },
  {
   "cell_type": "markdown",
   "id": "ed6fd26f",
   "metadata": {},
   "source": [
    "In the above histogram, more than 250 laptops belong to <b>HP, Dell and Lenovo</b>. As we can see equal amount of laptops are selled by <b>Dell</b> and <b>Lenove</b> brands. However, small amount of laptops are selled by <b>Chuwi</b>, <b>Microsoft</b>,  <b>Huawei</b>, <b>Xiaomi</b>, <b>Vero</b>, <b>Razer</b>, <b>Mediacom</b>, <b>Samsung</b>, <b>Google</b>, <b>Fujitsu</b> and <b>LG</b>;"
   ]
  },
  {
   "cell_type": "markdown",
   "id": "58e886e6",
   "metadata": {},
   "source": [
    "### RAM and Price relationship"
   ]
  },
  {
   "cell_type": "code",
   "execution_count": 11,
   "id": "b44d0f28",
   "metadata": {},
   "outputs": [
    {
     "data": {
      "text/plain": [
       "Text(0, 0.5, 'Price_euros')"
      ]
     },
     "execution_count": 11,
     "metadata": {},
     "output_type": "execute_result"
    },
    {
     "data": {
      "image/png": "[encoded data removed]",
      "text/plain": [
       "<Figure size 1296x288 with 1 Axes>"
      ]
     },
     "metadata": {
      "needs_background": "light"
     },
     "output_type": "display_data"
    }
   ],
   "source": [
    "plt.figure(figsize = (18, 4))\n",
    "sns.scatterplot(data=dataSet, x='Ram', y='Price_euros', color='red')\n",
    "plt.title('Ram and Price')\n",
    "plt.xlabel('RAM Size')\n",
    "plt.ylabel('Price_euros')"
   ]
  },
  {
   "cell_type": "markdown",
   "id": "fe20197b",
   "metadata": {},
   "source": [
    "## 10. Data Cleaning and Preparation"
   ]
  },
  {
   "cell_type": "markdown",
   "id": "225bde3b",
   "metadata": {},
   "source": [
    "### Drop redundant columns from dataset"
   ]
  },
  {
   "cell_type": "code",
   "execution_count": 12,
   "id": "3457954c",
   "metadata": {},
   "outputs": [],
   "source": [
    "dataSet.drop(columns=['laptop_ID','Company','Product','TypeName','OpSys'], axis=1, inplace=True)"
   ]
  },
  {
   "cell_type": "markdown",
   "id": "8572d9f7",
   "metadata": {},
   "source": [
    "### Summary of dataset"
   ]
  },
  {
   "cell_type": "code",
   "execution_count": 13,
   "id": "7b8067c7",
   "metadata": {
    "scrolled": true
   },
   "outputs": [
    {
     "name": "stdout",
     "output_type": "stream",
     "text": [
      "<class 'pandas.core.frame.DataFrame'>\n",
      "RangeIndex: 1303 entries, 0 to 1302\n",
      "Data columns (total 8 columns):\n",
      " #   Column            Non-Null Count  Dtype  \n",
      "---  ------            --------------  -----  \n",
      " 0   Inches            1303 non-null   float64\n",
      " 1   ScreenResolution  1303 non-null   object \n",
      " 2   Cpu               1303 non-null   object \n",
      " 3   Ram               1303 non-null   object \n",
      " 4   Memory            1303 non-null   object \n",
      " 5   Gpu               1303 non-null   object \n",
      " 6   Weight            1303 non-null   object \n",
      " 7   Price_euros       1303 non-null   float64\n",
      "dtypes: float64(2), object(6)\n",
      "memory usage: 81.6+ KB\n"
     ]
    }
   ],
   "source": [
    "dataSet.info()"
   ]
  },
  {
   "cell_type": "markdown",
   "id": "b6786d3b",
   "metadata": {},
   "source": [
    "We have removed the unnecessary columns from the dataset. Now, there are only 8 columns present in our dataset. There are 6 attributes which are of type object, whereas remaining are of type float64."
   ]
  },
  {
   "cell_type": "markdown",
   "id": "e29d3df9",
   "metadata": {},
   "source": [
    "### Datatype Conversion"
   ]
  },
  {
   "cell_type": "markdown",
   "id": "53c1a33a",
   "metadata": {},
   "source": [
    "Below, we are going to filter values and convert the object type to numeric one."
   ]
  },
  {
   "cell_type": "code",
   "execution_count": 14,
   "id": "5b8a9c27",
   "metadata": {
    "scrolled": true
   },
   "outputs": [],
   "source": [
    "dataSet['Weight'] = pd.to_numeric(dataSet['Weight'].str.replace(\"kg\",\"\"))\n",
    "dataSet.rename(columns = {\"Weight\":\"Weight (KG)\"}, inplace=True)"
   ]
  },
  {
   "cell_type": "code",
   "execution_count": 15,
   "id": "9409e501",
   "metadata": {},
   "outputs": [],
   "source": [
    "dataSet['Ram'] = pd.to_numeric(dataSet['Ram'].str.replace(\"GB\",\"\"))\n",
    "dataSet.rename(columns = {\"Ram\":\"Ram (GB)\"}, inplace=True)"
   ]
  },
  {
   "cell_type": "markdown",
   "id": "bb235b22",
   "metadata": {},
   "source": [
    "In the above code, we have excluded characters keeping only the numbers, and converted it into numeric values. And at the end, we have renamed its attribute name."
   ]
  },
  {
   "cell_type": "code",
   "execution_count": 16,
   "id": "c3c598c0",
   "metadata": {},
   "outputs": [
    {
     "data": {
      "text/plain": [
       "array(['128GB SSD', '128GB Flash Storage', '256GB SSD', '512GB SSD',\n",
       "       '500GB HDD', '256GB Flash Storage', '1TB HDD',\n",
       "       '32GB Flash Storage', '128GB SSD +  1TB HDD',\n",
       "       '256GB SSD +  256GB SSD', '64GB Flash Storage',\n",
       "       '256GB SSD +  1TB HDD', '256GB SSD +  2TB HDD', '32GB SSD',\n",
       "       '2TB HDD', '64GB SSD', '1.0TB Hybrid', '512GB SSD +  1TB HDD',\n",
       "       '1TB SSD', '256GB SSD +  500GB HDD', '128GB SSD +  2TB HDD',\n",
       "       '512GB SSD +  512GB SSD', '16GB SSD', '16GB Flash Storage',\n",
       "       '512GB SSD +  256GB SSD', '512GB SSD +  2TB HDD',\n",
       "       '64GB Flash Storage +  1TB HDD', '180GB SSD', '1TB HDD +  1TB HDD',\n",
       "       '32GB HDD', '1TB SSD +  1TB HDD', '512GB Flash Storage',\n",
       "       '128GB HDD', '240GB SSD', '8GB SSD', '508GB Hybrid', '1.0TB HDD',\n",
       "       '512GB SSD +  1.0TB Hybrid', '256GB SSD +  1.0TB Hybrid'],\n",
       "      dtype=object)"
      ]
     },
     "execution_count": 16,
     "metadata": {},
     "output_type": "execute_result"
    }
   ],
   "source": [
    "# check for unique values of Memory column\n",
    "dataSet['Memory'].unique()"
   ]
  },
  {
   "cell_type": "code",
   "execution_count": 17,
   "id": "844166ee",
   "metadata": {},
   "outputs": [
    {
     "data": {
      "text/html": [
       "<div>\n",
       "<style scoped>\n",
       "    .dataframe tbody tr th:only-of-type {\n",
       "        vertical-align: middle;\n",
       "    }\n",
       "\n",
       "    .dataframe tbody tr th {\n",
       "        vertical-align: top;\n",
       "    }\n",
       "\n",
       "    .dataframe thead th {\n",
       "        text-align: right;\n",
       "    }\n",
       "</style>\n",
       "<table border=\"1\" class=\"dataframe\">\n",
       "  <thead>\n",
       "    <tr style=\"text-align: right;\">\n",
       "      <th></th>\n",
       "      <th>0</th>\n",
       "      <th>1</th>\n",
       "    </tr>\n",
       "  </thead>\n",
       "  <tbody>\n",
       "    <tr>\n",
       "      <th>0</th>\n",
       "      <td>128GB</td>\n",
       "      <td>SSD</td>\n",
       "    </tr>\n",
       "    <tr>\n",
       "      <th>1</th>\n",
       "      <td>128GB</td>\n",
       "      <td>Flash Storage</td>\n",
       "    </tr>\n",
       "    <tr>\n",
       "      <th>2</th>\n",
       "      <td>256GB</td>\n",
       "      <td>SSD</td>\n",
       "    </tr>\n",
       "    <tr>\n",
       "      <th>3</th>\n",
       "      <td>512GB</td>\n",
       "      <td>SSD</td>\n",
       "    </tr>\n",
       "    <tr>\n",
       "      <th>4</th>\n",
       "      <td>256GB</td>\n",
       "      <td>SSD</td>\n",
       "    </tr>\n",
       "    <tr>\n",
       "      <th>...</th>\n",
       "      <td>...</td>\n",
       "      <td>...</td>\n",
       "    </tr>\n",
       "    <tr>\n",
       "      <th>1298</th>\n",
       "      <td>128GB</td>\n",
       "      <td>SSD</td>\n",
       "    </tr>\n",
       "    <tr>\n",
       "      <th>1299</th>\n",
       "      <td>512GB</td>\n",
       "      <td>SSD</td>\n",
       "    </tr>\n",
       "    <tr>\n",
       "      <th>1300</th>\n",
       "      <td>64GB</td>\n",
       "      <td>Flash Storage</td>\n",
       "    </tr>\n",
       "    <tr>\n",
       "      <th>1301</th>\n",
       "      <td>1TB</td>\n",
       "      <td>HDD</td>\n",
       "    </tr>\n",
       "    <tr>\n",
       "      <th>1302</th>\n",
       "      <td>500GB</td>\n",
       "      <td>HDD</td>\n",
       "    </tr>\n",
       "  </tbody>\n",
       "</table>\n",
       "<p>1303 rows × 2 columns</p>\n",
       "</div>"
      ],
      "text/plain": [
       "          0              1\n",
       "0     128GB            SSD\n",
       "1     128GB  Flash Storage\n",
       "2     256GB            SSD\n",
       "3     512GB            SSD\n",
       "4     256GB            SSD\n",
       "...     ...            ...\n",
       "1298  128GB            SSD\n",
       "1299  512GB            SSD\n",
       "1300   64GB  Flash Storage\n",
       "1301    1TB            HDD\n",
       "1302  500GB            HDD\n",
       "\n",
       "[1303 rows x 2 columns]"
      ]
     },
     "execution_count": 17,
     "metadata": {},
     "output_type": "execute_result"
    }
   ],
   "source": [
    "# split the data with space as a delimiter\n",
    "splitData = dataSet['Memory'].str.split(' ', 1, expand=True)\n",
    "\n",
    "# checking values\n",
    "splitData"
   ]
  },
  {
   "cell_type": "code",
   "execution_count": 18,
   "id": "0a82b0ee",
   "metadata": {},
   "outputs": [
    {
     "data": {
      "text/plain": [
       "0                 SSD\n",
       "1       Flash Storage\n",
       "2                 SSD\n",
       "3                 SSD\n",
       "4                 SSD\n",
       "            ...      \n",
       "1298              SSD\n",
       "1299              SSD\n",
       "1300    Flash Storage\n",
       "1301              HDD\n",
       "1302              HDD\n",
       "Name: Storage_Type, Length: 1303, dtype: object"
      ]
     },
     "execution_count": 18,
     "metadata": {},
     "output_type": "execute_result"
    }
   ],
   "source": [
    "# create new column and store values of 2nd column of splitData  \n",
    "dataSet['Storage_Type'] = splitData[1]\n",
    "\n",
    "# checking values\n",
    "dataSet['Storage_Type']"
   ]
  },
  {
   "cell_type": "code",
   "execution_count": 19,
   "id": "25728c53",
   "metadata": {},
   "outputs": [],
   "source": [
    "# store values of 1st column of splitData \n",
    "dataSet['Memory'] = splitData[0]\n",
    "\n",
    "# extract numeric values only and store them in temp variable\n",
    "temp = dataSet['Memory'].str.split('(\\d+)',  expand=True)\n",
    "\n",
    "# string to numeric conversion and storing data in column\n",
    "dataSet['Memory'] = pd.to_numeric(temp[1])\n",
    "\n",
    "dataSet.rename(columns={'Memory':'Storage (GB)'}, inplace=True)"
   ]
  },
  {
   "cell_type": "code",
   "execution_count": 20,
   "id": "05eb8650",
   "metadata": {},
   "outputs": [],
   "source": [
    "dataSet['Storage (GB)'] = list((map((lambda x: x*1024 if x < 3 else x), dataSet['Storage (GB)'])))"
   ]
  },
  {
   "cell_type": "markdown",
   "id": "da4ba185",
   "metadata": {},
   "source": [
    "The above code is to convert TB to GB unit as there are value which are in units (i.e GB and TB). I found some values of single digit. These values has to be converted to GB. In other words, all the values has to be converted to same unit. Hence, the above code is useful."
   ]
  },
  {
   "cell_type": "markdown",
   "id": "a4b63447",
   "metadata": {},
   "source": [
    "### Preview summary of dataset again"
   ]
  },
  {
   "cell_type": "code",
   "execution_count": 21,
   "id": "8e8771e9",
   "metadata": {},
   "outputs": [
    {
     "name": "stdout",
     "output_type": "stream",
     "text": [
      "<class 'pandas.core.frame.DataFrame'>\n",
      "RangeIndex: 1303 entries, 0 to 1302\n",
      "Data columns (total 9 columns):\n",
      " #   Column            Non-Null Count  Dtype  \n",
      "---  ------            --------------  -----  \n",
      " 0   Inches            1303 non-null   float64\n",
      " 1   ScreenResolution  1303 non-null   object \n",
      " 2   Cpu               1303 non-null   object \n",
      " 3   Ram (GB)          1303 non-null   int64  \n",
      " 4   Storage (GB)      1303 non-null   int64  \n",
      " 5   Gpu               1303 non-null   object \n",
      " 6   Weight (KG)       1303 non-null   float64\n",
      " 7   Price_euros       1303 non-null   float64\n",
      " 8   Storage_Type      1303 non-null   object \n",
      "dtypes: float64(3), int64(2), object(4)\n",
      "memory usage: 91.7+ KB\n"
     ]
    }
   ],
   "source": [
    "dataSet.info()"
   ]
  },
  {
   "cell_type": "markdown",
   "id": "76c62b05",
   "metadata": {},
   "source": [
    "### View the dataset again"
   ]
  },
  {
   "cell_type": "code",
   "execution_count": 22,
   "id": "da1b2f94",
   "metadata": {
    "scrolled": false
   },
   "outputs": [
    {
     "data": {
      "text/html": [
       "<div>\n",
       "<style scoped>\n",
       "    .dataframe tbody tr th:only-of-type {\n",
       "        vertical-align: middle;\n",
       "    }\n",
       "\n",
       "    .dataframe tbody tr th {\n",
       "        vertical-align: top;\n",
       "    }\n",
       "\n",
       "    .dataframe thead th {\n",
       "        text-align: right;\n",
       "    }\n",
       "</style>\n",
       "<table border=\"1\" class=\"dataframe\">\n",
       "  <thead>\n",
       "    <tr style=\"text-align: right;\">\n",
       "      <th></th>\n",
       "      <th>Inches</th>\n",
       "      <th>ScreenResolution</th>\n",
       "      <th>Cpu</th>\n",
       "      <th>Ram (GB)</th>\n",
       "      <th>Storage (GB)</th>\n",
       "      <th>Gpu</th>\n",
       "      <th>Weight (KG)</th>\n",
       "      <th>Price_euros</th>\n",
       "      <th>Storage_Type</th>\n",
       "    </tr>\n",
       "  </thead>\n",
       "  <tbody>\n",
       "    <tr>\n",
       "      <th>0</th>\n",
       "      <td>13.3</td>\n",
       "      <td>IPS Panel Retina Display 2560x1600</td>\n",
       "      <td>Intel Core i5 2.3GHz</td>\n",
       "      <td>8</td>\n",
       "      <td>128</td>\n",
       "      <td>Intel Iris Plus Graphics 640</td>\n",
       "      <td>1.37</td>\n",
       "      <td>1339.69</td>\n",
       "      <td>SSD</td>\n",
       "    </tr>\n",
       "    <tr>\n",
       "      <th>1</th>\n",
       "      <td>13.3</td>\n",
       "      <td>1440x900</td>\n",
       "      <td>Intel Core i5 1.8GHz</td>\n",
       "      <td>8</td>\n",
       "      <td>128</td>\n",
       "      <td>Intel HD Graphics 6000</td>\n",
       "      <td>1.34</td>\n",
       "      <td>898.94</td>\n",
       "      <td>Flash Storage</td>\n",
       "    </tr>\n",
       "    <tr>\n",
       "      <th>2</th>\n",
       "      <td>15.6</td>\n",
       "      <td>Full HD 1920x1080</td>\n",
       "      <td>Intel Core i5 7200U 2.5GHz</td>\n",
       "      <td>8</td>\n",
       "      <td>256</td>\n",
       "      <td>Intel HD Graphics 620</td>\n",
       "      <td>1.86</td>\n",
       "      <td>575.00</td>\n",
       "      <td>SSD</td>\n",
       "    </tr>\n",
       "    <tr>\n",
       "      <th>3</th>\n",
       "      <td>15.4</td>\n",
       "      <td>IPS Panel Retina Display 2880x1800</td>\n",
       "      <td>Intel Core i7 2.7GHz</td>\n",
       "      <td>16</td>\n",
       "      <td>512</td>\n",
       "      <td>AMD Radeon Pro 455</td>\n",
       "      <td>1.83</td>\n",
       "      <td>2537.45</td>\n",
       "      <td>SSD</td>\n",
       "    </tr>\n",
       "    <tr>\n",
       "      <th>4</th>\n",
       "      <td>13.3</td>\n",
       "      <td>IPS Panel Retina Display 2560x1600</td>\n",
       "      <td>Intel Core i5 3.1GHz</td>\n",
       "      <td>8</td>\n",
       "      <td>256</td>\n",
       "      <td>Intel Iris Plus Graphics 650</td>\n",
       "      <td>1.37</td>\n",
       "      <td>1803.60</td>\n",
       "      <td>SSD</td>\n",
       "    </tr>\n",
       "  </tbody>\n",
       "</table>\n",
       "</div>"
      ],
      "text/plain": [
       "   Inches                    ScreenResolution                         Cpu  \\\n",
       "0    13.3  IPS Panel Retina Display 2560x1600        Intel Core i5 2.3GHz   \n",
       "1    13.3                            1440x900        Intel Core i5 1.8GHz   \n",
       "2    15.6                   Full HD 1920x1080  Intel Core i5 7200U 2.5GHz   \n",
       "3    15.4  IPS Panel Retina Display 2880x1800        Intel Core i7 2.7GHz   \n",
       "4    13.3  IPS Panel Retina Display 2560x1600        Intel Core i5 3.1GHz   \n",
       "\n",
       "   Ram (GB)  Storage (GB)                           Gpu  Weight (KG)  \\\n",
       "0         8           128  Intel Iris Plus Graphics 640         1.37   \n",
       "1         8           128        Intel HD Graphics 6000         1.34   \n",
       "2         8           256         Intel HD Graphics 620         1.86   \n",
       "3        16           512            AMD Radeon Pro 455         1.83   \n",
       "4         8           256  Intel Iris Plus Graphics 650         1.37   \n",
       "\n",
       "   Price_euros   Storage_Type  \n",
       "0      1339.69            SSD  \n",
       "1       898.94  Flash Storage  \n",
       "2       575.00            SSD  \n",
       "3      2537.45            SSD  \n",
       "4      1803.60            SSD  "
      ]
     },
     "execution_count": 22,
     "metadata": {},
     "output_type": "execute_result"
    }
   ],
   "source": [
    "dataSet.head()"
   ]
  },
  {
   "cell_type": "code",
   "execution_count": 23,
   "id": "87dc4a0f",
   "metadata": {},
   "outputs": [],
   "source": [
    "# split the data with space as a delimiter\n",
    "split_cpuInfo = dataSet['Cpu'].str.split(' ', 1, expand=True)\n",
    "\n",
    "# store values of 1st column of split_cpuInfo\n",
    "dataSet['CPU_Type'] = split_cpuInfo[0]"
   ]
  },
  {
   "cell_type": "code",
   "execution_count": 24,
   "id": "9cf6f120",
   "metadata": {},
   "outputs": [
    {
     "data": {
      "text/plain": [
       "array(['Intel Core i5 2.3GHz', 'Intel Core i5 1.8GHz',\n",
       "       'Intel Core i5 7200U 2.5GHz', 'Intel Core i7 2.7GHz',\n",
       "       'Intel Core i5 3.1GHz', 'AMD A9-Series 9420 3GHz',\n",
       "       'Intel Core i7 2.2GHz', 'Intel Core i7 8550U 1.8GHz',\n",
       "       'Intel Core i5 8250U 1.6GHz', 'Intel Core i3 6006U 2GHz',\n",
       "       'Intel Core i7 2.8GHz', 'Intel Core M m3 1.2GHz',\n",
       "       'Intel Core i7 7500U 2.7GHz', 'Intel Core i7 2.9GHz',\n",
       "       'Intel Core i3 7100U 2.4GHz', 'Intel Atom x5-Z8350 1.44GHz',\n",
       "       'Intel Core i5 7300HQ 2.5GHz', 'AMD E-Series E2-9000e 1.5GHz',\n",
       "       'Intel Core i5 1.6GHz', 'Intel Core i7 8650U 1.9GHz',\n",
       "       'Intel Atom x5-Z8300 1.44GHz', 'AMD E-Series E2-6110 1.5GHz',\n",
       "       'AMD A6-Series 9220 2.5GHz',\n",
       "       'Intel Celeron Dual Core N3350 1.1GHz',\n",
       "       'Intel Core i3 7130U 2.7GHz', 'Intel Core i7 7700HQ 2.8GHz',\n",
       "       'Intel Core i5 2.0GHz', 'AMD Ryzen 1700 3GHz',\n",
       "       'Intel Pentium Quad Core N4200 1.1GHz',\n",
       "       'Intel Atom x5-Z8550 1.44GHz',\n",
       "       'Intel Celeron Dual Core N3060 1.6GHz', 'Intel Core i5 1.3GHz',\n",
       "       'AMD FX 9830P 3GHz', 'Intel Core i7 7560U 2.4GHz',\n",
       "       'AMD E-Series 6110 1.5GHz', 'Intel Core i5 6200U 2.3GHz',\n",
       "       'Intel Core M 6Y75 1.2GHz', 'Intel Core i5 7500U 2.7GHz',\n",
       "       'Intel Core i3 6006U 2.2GHz', 'AMD A6-Series 9220 2.9GHz',\n",
       "       'Intel Core i7 6920HQ 2.9GHz', 'Intel Core i5 7Y54 1.2GHz',\n",
       "       'Intel Core i7 7820HK 2.9GHz', 'Intel Xeon E3-1505M V6 3GHz',\n",
       "       'Intel Core i7 6500U 2.5GHz', 'AMD E-Series 9000e 1.5GHz',\n",
       "       'AMD A10-Series A10-9620P 2.5GHz', 'AMD A6-Series A6-9220 2.5GHz',\n",
       "       'Intel Core i5 2.9GHz', 'Intel Core i7 6600U 2.6GHz',\n",
       "       'Intel Core i3 6006U 2.0GHz',\n",
       "       'Intel Celeron Dual Core 3205U 1.5GHz',\n",
       "       'Intel Core i7 7820HQ 2.9GHz', 'AMD A10-Series 9600P 2.4GHz',\n",
       "       'Intel Core i7 7600U 2.8GHz', 'AMD A8-Series 7410 2.2GHz',\n",
       "       'Intel Celeron Dual Core 3855U 1.6GHz',\n",
       "       'Intel Pentium Quad Core N3710 1.6GHz',\n",
       "       'AMD A12-Series 9720P 2.7GHz', 'Intel Core i5 7300U 2.6GHz',\n",
       "       'AMD A12-Series 9720P 3.6GHz',\n",
       "       'Intel Celeron Quad Core N3450 1.1GHz',\n",
       "       'Intel Celeron Dual Core N3060 1.60GHz',\n",
       "       'Intel Core i5 6440HQ 2.6GHz', 'Intel Core i7 6820HQ 2.7GHz',\n",
       "       'AMD Ryzen 1600 3.2GHz', 'Intel Core i7 7Y75 1.3GHz',\n",
       "       'Intel Core i5 7440HQ 2.8GHz', 'Intel Core i7 7660U 2.5GHz',\n",
       "       'Intel Core i7 7700HQ 2.7GHz', 'Intel Core M m3-7Y30 2.2GHz',\n",
       "       'Intel Core i5 7Y57 1.2GHz', 'Intel Core i7 6700HQ 2.6GHz',\n",
       "       'Intel Core i3 6100U 2.3GHz', 'AMD A10-Series 9620P 2.5GHz',\n",
       "       'AMD E-Series 7110 1.8GHz', 'Intel Celeron Dual Core N3350 2.0GHz',\n",
       "       'AMD A9-Series A9-9420 3GHz', 'Intel Core i7 6820HK 2.7GHz',\n",
       "       'Intel Core M 7Y30 1.0GHz', 'Intel Xeon E3-1535M v6 3.1GHz',\n",
       "       'Intel Celeron Quad Core N3160 1.6GHz',\n",
       "       'Intel Core i5 6300U 2.4GHz', 'Intel Core i3 6100U 2.1GHz',\n",
       "       'AMD E-Series E2-9000 2.2GHz',\n",
       "       'Intel Celeron Dual Core N3050 1.6GHz',\n",
       "       'Intel Core M M3-6Y30 0.9GHz', 'AMD A9-Series 9420 2.9GHz',\n",
       "       'Intel Core i5 6300HQ 2.3GHz', 'AMD A6-Series 7310 2GHz',\n",
       "       'Intel Atom Z8350 1.92GHz', 'Intel Xeon E3-1535M v5 2.9GHz',\n",
       "       'Intel Core i5 6260U 1.8GHz',\n",
       "       'Intel Pentium Dual Core N4200 1.1GHz',\n",
       "       'Intel Celeron Quad Core N3710 1.6GHz', 'Intel Core M 1.2GHz',\n",
       "       'AMD A12-Series 9700P 2.5GHz', 'Intel Core i7 7500U 2.5GHz',\n",
       "       'Intel Pentium Dual Core 4405U 2.1GHz',\n",
       "       'AMD A4-Series 7210 2.2GHz', 'Intel Core i7 6560U 2.2GHz',\n",
       "       'Intel Core M m7-6Y75 1.2GHz', 'AMD FX 8800P 2.1GHz',\n",
       "       'Intel Core M M7-6Y75 1.2GHz', 'Intel Core i5 7200U 2.50GHz',\n",
       "       'Intel Core i5 7200U 2.70GHz', 'Intel Atom X5-Z8350 1.44GHz',\n",
       "       'Intel Core i5 7200U 2.7GHz', 'Intel Core M 1.1GHz',\n",
       "       'Intel Pentium Dual Core 4405Y 1.5GHz',\n",
       "       'Intel Pentium Quad Core N3700 1.6GHz', 'Intel Core M 6Y54 1.1GHz',\n",
       "       'Intel Core i7 6500U 2.50GHz',\n",
       "       'Intel Celeron Dual Core N3350 2GHz',\n",
       "       'Samsung Cortex A72&A53 2.0GHz', 'AMD E-Series 9000 2.2GHz',\n",
       "       'Intel Core M 6Y30 0.9GHz', 'AMD A9-Series 9410 2.9GHz'],\n",
       "      dtype=object)"
      ]
     },
     "execution_count": 24,
     "metadata": {},
     "output_type": "execute_result"
    }
   ],
   "source": [
    "# check for unique values of Cpu column\n",
    "dataSet['Cpu'].unique()"
   ]
  },
  {
   "cell_type": "code",
   "execution_count": 25,
   "id": "b04a6404",
   "metadata": {},
   "outputs": [
    {
     "data": {
      "text/plain": [
       "0            i5\n",
       "1            i5\n",
       "2            i5\n",
       "3            i7\n",
       "4            i5\n",
       "         ...   \n",
       "1298         i7\n",
       "1299         i7\n",
       "1300    Celeron\n",
       "1301         i7\n",
       "1302    Celeron\n",
       "Name: CPU_Model, Length: 1303, dtype: object"
      ]
     },
     "execution_count": 25,
     "metadata": {},
     "output_type": "execute_result"
    }
   ],
   "source": [
    "# create new column and store the extracted string in it\n",
    "dataSet['CPU_Model'] = dataSet['Cpu'].str.extract(r'(i\\d|AMD|Samsung|Pentium|Celeron|Atom|Core M|Xeon)')\n",
    "\n",
    "# view the values\n",
    "dataSet['CPU_Model']"
   ]
  },
  {
   "cell_type": "markdown",
   "id": "7c818766",
   "metadata": {},
   "source": [
    "We have extracted cpu model and stored in new column. In same way, again we have to extract cpu speed which has been shown in the code below."
   ]
  },
  {
   "cell_type": "code",
   "execution_count": 26,
   "id": "d778caf8",
   "metadata": {},
   "outputs": [
    {
     "data": {
      "text/plain": [
       "0       2.3\n",
       "1       1.8\n",
       "2       2.5\n",
       "3       2.7\n",
       "4       3.1\n",
       "       ... \n",
       "1298    2.5\n",
       "1299    2.5\n",
       "1300    1.6\n",
       "1301    2.5\n",
       "1302    1.6\n",
       "Name: CPU_Speed (GHz), Length: 1303, dtype: float64"
      ]
     },
     "execution_count": 26,
     "metadata": {},
     "output_type": "execute_result"
    }
   ],
   "source": [
    "dataSet['CPU_Speed (GHz)'] = dataSet['Cpu'].str.extract(r'(\\d+\\.\\d+GHz|\\d+GHz)')\n",
    "dataSet['CPU_Speed (GHz)'] = pd.to_numeric(dataSet['CPU_Speed (GHz)'].str.replace(\"GHz\",\"\"))\n",
    "dataSet['CPU_Speed (GHz)']"
   ]
  },
  {
   "cell_type": "code",
   "execution_count": 27,
   "id": "feabe8ef",
   "metadata": {},
   "outputs": [
    {
     "data": {
      "text/plain": [
       "0       2560x1600\n",
       "1        1440x900\n",
       "2       1920x1080\n",
       "3       2880x1800\n",
       "4       2560x1600\n",
       "          ...    \n",
       "1298    1920x1080\n",
       "1299    3200x1800\n",
       "1300     1366x768\n",
       "1301     1366x768\n",
       "1302     1366x768\n",
       "Name: ScreenResolution, Length: 1303, dtype: object"
      ]
     },
     "execution_count": 27,
     "metadata": {},
     "output_type": "execute_result"
    }
   ],
   "source": [
    "# extract values from column ScreenResolution \n",
    "dataSet['ScreenResolution'] = dataSet['ScreenResolution'].str.extract(r'(\\d+x\\d+)')\n",
    "\n",
    "# checking values\n",
    "dataSet['ScreenResolution']"
   ]
  },
  {
   "cell_type": "code",
   "execution_count": 28,
   "id": "599ea1cc",
   "metadata": {},
   "outputs": [
    {
     "data": {
      "text/html": [
       "<div>\n",
       "<style scoped>\n",
       "    .dataframe tbody tr th:only-of-type {\n",
       "        vertical-align: middle;\n",
       "    }\n",
       "\n",
       "    .dataframe tbody tr th {\n",
       "        vertical-align: top;\n",
       "    }\n",
       "\n",
       "    .dataframe thead th {\n",
       "        text-align: right;\n",
       "    }\n",
       "</style>\n",
       "<table border=\"1\" class=\"dataframe\">\n",
       "  <thead>\n",
       "    <tr style=\"text-align: right;\">\n",
       "      <th></th>\n",
       "      <th>0</th>\n",
       "      <th>1</th>\n",
       "    </tr>\n",
       "  </thead>\n",
       "  <tbody>\n",
       "    <tr>\n",
       "      <th>0</th>\n",
       "      <td>2560</td>\n",
       "      <td>1600</td>\n",
       "    </tr>\n",
       "    <tr>\n",
       "      <th>1</th>\n",
       "      <td>1440</td>\n",
       "      <td>900</td>\n",
       "    </tr>\n",
       "    <tr>\n",
       "      <th>2</th>\n",
       "      <td>1920</td>\n",
       "      <td>1080</td>\n",
       "    </tr>\n",
       "    <tr>\n",
       "      <th>3</th>\n",
       "      <td>2880</td>\n",
       "      <td>1800</td>\n",
       "    </tr>\n",
       "    <tr>\n",
       "      <th>4</th>\n",
       "      <td>2560</td>\n",
       "      <td>1600</td>\n",
       "    </tr>\n",
       "    <tr>\n",
       "      <th>...</th>\n",
       "      <td>...</td>\n",
       "      <td>...</td>\n",
       "    </tr>\n",
       "    <tr>\n",
       "      <th>1298</th>\n",
       "      <td>1920</td>\n",
       "      <td>1080</td>\n",
       "    </tr>\n",
       "    <tr>\n",
       "      <th>1299</th>\n",
       "      <td>3200</td>\n",
       "      <td>1800</td>\n",
       "    </tr>\n",
       "    <tr>\n",
       "      <th>1300</th>\n",
       "      <td>1366</td>\n",
       "      <td>768</td>\n",
       "    </tr>\n",
       "    <tr>\n",
       "      <th>1301</th>\n",
       "      <td>1366</td>\n",
       "      <td>768</td>\n",
       "    </tr>\n",
       "    <tr>\n",
       "      <th>1302</th>\n",
       "      <td>1366</td>\n",
       "      <td>768</td>\n",
       "    </tr>\n",
       "  </tbody>\n",
       "</table>\n",
       "<p>1303 rows × 2 columns</p>\n",
       "</div>"
      ],
      "text/plain": [
       "         0     1\n",
       "0     2560  1600\n",
       "1     1440   900\n",
       "2     1920  1080\n",
       "3     2880  1800\n",
       "4     2560  1600\n",
       "...    ...   ...\n",
       "1298  1920  1080\n",
       "1299  3200  1800\n",
       "1300  1366   768\n",
       "1301  1366   768\n",
       "1302  1366   768\n",
       "\n",
       "[1303 rows x 2 columns]"
      ]
     },
     "execution_count": 28,
     "metadata": {},
     "output_type": "execute_result"
    }
   ],
   "source": [
    "split_resInfo = dataSet['ScreenResolution'].str.split('x', 1, expand=True)\n",
    "split_resInfo"
   ]
  },
  {
   "cell_type": "code",
   "execution_count": 29,
   "id": "d25f3851",
   "metadata": {},
   "outputs": [],
   "source": [
    "# convert string to integer type and store them in new columns\n",
    "dataSet['Screen_Width'] = split_resInfo[0].astype(int)\n",
    "dataSet['Screen_Height'] = split_resInfo[1].astype(int)"
   ]
  },
  {
   "cell_type": "code",
   "execution_count": 30,
   "id": "5b850efa",
   "metadata": {},
   "outputs": [
    {
     "data": {
      "text/plain": [
       "<bound method Series.unique of 0       Intel Iris Plus Graphics 640\n",
       "1             Intel HD Graphics 6000\n",
       "2              Intel HD Graphics 620\n",
       "3                 AMD Radeon Pro 455\n",
       "4       Intel Iris Plus Graphics 650\n",
       "                    ...             \n",
       "1298           Intel HD Graphics 520\n",
       "1299           Intel HD Graphics 520\n",
       "1300               Intel HD Graphics\n",
       "1301              AMD Radeon R5 M330\n",
       "1302               Intel HD Graphics\n",
       "Name: Gpu, Length: 1303, dtype: object>"
      ]
     },
     "execution_count": 30,
     "metadata": {},
     "output_type": "execute_result"
    }
   ],
   "source": [
    "# check for unique values in Gpu column\n",
    "dataSet['Gpu'].unique"
   ]
  },
  {
   "cell_type": "code",
   "execution_count": 31,
   "id": "a3b8417d",
   "metadata": {},
   "outputs": [
    {
     "data": {
      "text/plain": [
       "0       Intel\n",
       "1       Intel\n",
       "2       Intel\n",
       "3         AMD\n",
       "4       Intel\n",
       "        ...  \n",
       "1298    Intel\n",
       "1299    Intel\n",
       "1300    Intel\n",
       "1301      AMD\n",
       "1302    Intel\n",
       "Name: Gpu, Length: 1303, dtype: object"
      ]
     },
     "execution_count": 31,
     "metadata": {},
     "output_type": "execute_result"
    }
   ],
   "source": [
    "dataSet['Gpu'] = dataSet['Gpu'].str.extract(r'(Nvidia|AMD|Intel)')\n",
    "dataSet['Gpu']"
   ]
  },
  {
   "cell_type": "markdown",
   "id": "29be244a",
   "metadata": {},
   "source": [
    "### view the summary of the dataset"
   ]
  },
  {
   "cell_type": "code",
   "execution_count": 32,
   "id": "78b61169",
   "metadata": {},
   "outputs": [
    {
     "name": "stdout",
     "output_type": "stream",
     "text": [
      "<class 'pandas.core.frame.DataFrame'>\n",
      "RangeIndex: 1303 entries, 0 to 1302\n",
      "Data columns (total 14 columns):\n",
      " #   Column            Non-Null Count  Dtype  \n",
      "---  ------            --------------  -----  \n",
      " 0   Inches            1303 non-null   float64\n",
      " 1   ScreenResolution  1303 non-null   object \n",
      " 2   Cpu               1303 non-null   object \n",
      " 3   Ram (GB)          1303 non-null   int64  \n",
      " 4   Storage (GB)      1303 non-null   int64  \n",
      " 5   Gpu               1302 non-null   object \n",
      " 6   Weight (KG)       1303 non-null   float64\n",
      " 7   Price_euros       1303 non-null   float64\n",
      " 8   Storage_Type      1303 non-null   object \n",
      " 9   CPU_Type          1303 non-null   object \n",
      " 10  CPU_Model         1303 non-null   object \n",
      " 11  CPU_Speed (GHz)   1303 non-null   float64\n",
      " 12  Screen_Width      1303 non-null   int32  \n",
      " 13  Screen_Height     1303 non-null   int32  \n",
      "dtypes: float64(4), int32(2), int64(2), object(6)\n",
      "memory usage: 132.5+ KB\n"
     ]
    }
   ],
   "source": [
    "dataSet.info()"
   ]
  },
  {
   "cell_type": "markdown",
   "id": "c21a98d0",
   "metadata": {},
   "source": [
    "Now, we have to ignore the columns which contains the values of object type. This is because we have been able to filter the data from it and stored in new columns. Hence, we are going to use it for further processing."
   ]
  },
  {
   "cell_type": "markdown",
   "id": "946ea518",
   "metadata": {},
   "source": [
    "## 11. Preprocessing and modeling"
   ]
  },
  {
   "cell_type": "markdown",
   "id": "9adfd3fc",
   "metadata": {},
   "source": [
    "### Declare feature and target variable"
   ]
  },
  {
   "cell_type": "code",
   "execution_count": 33,
   "id": "655af015",
   "metadata": {},
   "outputs": [
    {
     "data": {
      "text/plain": [
       "((1303, 13), (1303,))"
      ]
     },
     "execution_count": 33,
     "metadata": {},
     "output_type": "execute_result"
    }
   ],
   "source": [
    "# store values from column Price_euros\n",
    "Y = dataSet['Price_euros']\n",
    "\n",
    "# store values from remaining column\n",
    "X = dataSet.drop(['Price_euros'], axis = 1)\n",
    "\n",
    "# checking for values\n",
    "X.shape, Y.shape"
   ]
  },
  {
   "cell_type": "markdown",
   "id": "721c68d5",
   "metadata": {},
   "source": [
    "Since our X variable contains data of numeric and string type, we are going to exclude string data and reassign it."
   ]
  },
  {
   "cell_type": "code",
   "execution_count": 34,
   "id": "d023bb80",
   "metadata": {},
   "outputs": [],
   "source": [
    "X = X.select_dtypes(exclude = ['object'])"
   ]
  },
  {
   "cell_type": "markdown",
   "id": "d55378e0",
   "metadata": {},
   "source": [
    "### Data Split\n",
    "We are going to split the data into 80:20 ratio. That means 80% of the data are given to train the model and remaining 20% data are used for testing."
   ]
  },
  {
   "cell_type": "code",
   "execution_count": 35,
   "id": "1f526a2c",
   "metadata": {},
   "outputs": [],
   "source": [
    "x_train, x_test, y_train, y_test = train_test_split(X, Y, test_size=0.2, random_state=7)"
   ]
  },
  {
   "cell_type": "code",
   "execution_count": 36,
   "id": "70998f45",
   "metadata": {},
   "outputs": [
    {
     "name": "stdout",
     "output_type": "stream",
     "text": [
      "(1042, 7)\n",
      "(1042,)\n"
     ]
    }
   ],
   "source": [
    "# check for no. of rows present in training section\n",
    "print(x_train.shape)\n",
    "print(y_train.shape)"
   ]
  },
  {
   "cell_type": "code",
   "execution_count": 37,
   "id": "f3d9195d",
   "metadata": {},
   "outputs": [
    {
     "name": "stdout",
     "output_type": "stream",
     "text": [
      "(261, 7)\n",
      "(261,)\n"
     ]
    }
   ],
   "source": [
    "# check for no. of rows present in testing section\n",
    "print(x_test.shape)\n",
    "print(y_test.shape)"
   ]
  },
  {
   "cell_type": "markdown",
   "id": "53ed5014",
   "metadata": {},
   "source": [
    "### Model preparation\n",
    "A model is created and it is trained in this section. For this it is provided with a set of well labelled data which we have prepared earlier."
   ]
  },
  {
   "cell_type": "code",
   "execution_count": 38,
   "id": "36781c4e",
   "metadata": {},
   "outputs": [],
   "source": [
    "model = LinearRegression()"
   ]
  },
  {
   "cell_type": "code",
   "execution_count": 39,
   "id": "626eadd6",
   "metadata": {},
   "outputs": [
    {
     "data": {
      "text/plain": [
       "LinearRegression()"
      ]
     },
     "execution_count": 39,
     "metadata": {},
     "output_type": "execute_result"
    }
   ],
   "source": [
    "# model training\n",
    "model.fit(x_train, y_train)"
   ]
  },
  {
   "cell_type": "code",
   "execution_count": 40,
   "id": "0dbee3ec",
   "metadata": {},
   "outputs": [],
   "source": [
    "y_predict = model.predict(x_test)"
   ]
  },
  {
   "cell_type": "markdown",
   "id": "a60f3708",
   "metadata": {},
   "source": [
    "In the above code, model is provided with a set of inputs for testing and is made to predict the output. These outputs are available in <b><i>y_predict</i></b> variable."
   ]
  },
  {
   "cell_type": "markdown",
   "id": "bb10e95a",
   "metadata": {},
   "source": [
    "## 12. Finding result and accuracy\n",
    "Here, we are going to find the Mean Squared Error(MSE), Root Mean Squared Error(RMSE) and Coefficient of determination (R^2). In addition to it, we will show the coefficient (i.e slope) and intercept too."
   ]
  },
  {
   "cell_type": "code",
   "execution_count": 41,
   "id": "c1ec7332",
   "metadata": {},
   "outputs": [
    {
     "name": "stdout",
     "output_type": "stream",
     "text": [
      "Coefficients:  [-6.38625190e+01  7.59361938e+01 -2.11173041e-01  7.87432378e+01\n",
      "  2.95609044e+02 -2.45563825e-02  6.49526552e-01]\n",
      "Intercept:  56.02487767452999\n",
      "Mean squared error (MSE):  137308.49382800527\n",
      "Root Mean squared error (RMSE):  370.5516075096764\n",
      "Coefficient of determination (R^2):  0.7060161791024969\n"
     ]
    }
   ],
   "source": [
    "MSE = mean_squared_error(y_test, y_predict)\n",
    "RMSE = np.sqrt(MSE)\n",
    "SCORE = r2_score(y_test, y_predict)\n",
    "\n",
    "print('Coefficients: ', model.coef_)\n",
    "print('Intercept: ', model.intercept_)\n",
    "print('Mean squared error (MSE): ', MSE)\n",
    "print('Root Mean squared error (RMSE): ', RMSE)\n",
    "print('Coefficient of determination (R^2): ', SCORE)"
   ]
  },
  {
   "cell_type": "markdown",
   "id": "e414e34c",
   "metadata": {},
   "source": [
    "## 13. Plotting the graph"
   ]
  },
  {
   "cell_type": "code",
   "execution_count": 42,
   "id": "6ec91417",
   "metadata": {
    "scrolled": true
   },
   "outputs": [
    {
     "data": {
      "text/plain": [
       "<AxesSubplot:xlabel='Price_euros'>"
      ]
     },
     "execution_count": 42,
     "metadata": {},
     "output_type": "execute_result"
    },
    {
     "data": {
      "image/png": "[encoded data removed]",
      "text/plain": [
       "<Figure size 432x288 with 1 Axes>"
      ]
     },
     "metadata": {
      "needs_background": "light"
     },
     "output_type": "display_data"
    }
   ],
   "source": [
    "sns.scatterplot(y_test, y_predict, marker='+')"
   ]
  },
  {
   "cell_type": "markdown",
   "id": "df4016bf",
   "metadata": {},
   "source": [
    "## 14. Conclusion\n",
    "In this project, I have implemented one of the most popular supervised machine learning algorithm known as <b><i>Linear Regression</i></b>.<br><br>I find that the model has coefficient of determination which is also known as R^2 score to be around 0.7. Hence,  it is the good model to fit the data."
   ]
  }
 ],
 "metadata": {
  "kernelspec": {
   "display_name": "Python 3 (ipykernel)",
   "language": "python",
   "name": "python3"
  },
  "language_info": {
   "codemirror_mode": {
    "name": "ipython",
    "version": 3
   },
   "file_extension": ".py",
   "mimetype": "text/x-python",
   "name": "python",
   "nbconvert_exporter": "python",
   "pygments_lexer": "ipython3",
   "version": "3.9.7"
  }
 },
 "nbformat": 4,
 "nbformat_minor": 5
}
